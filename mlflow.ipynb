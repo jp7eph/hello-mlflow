{
 "cells": [
  {
   "cell_type": "code",
   "execution_count": 2,
   "metadata": {},
   "outputs": [
    {
     "name": "stdout",
     "output_type": "stream",
     "text": [
      "http://127.0.0.1:5001\n",
      "s3://mlflow/0/cf7cecb4e54741189ad84a0439fde5d8/artifacts\n"
     ]
    }
   ],
   "source": [
    "import mlflow\n",
    "import os\n",
    "\n",
    "os.environ[\"MLFLOW_S3_ENDPOINT_URL\"] = \"http://127.0.0.1:9000\"\n",
    "os.environ[\"AWS_ACCESS_KEY_ID\"] = \"mlflow\"\n",
    "os.environ[\"AWS_SECRET_ACCESS_KEY\"] = \"MLFLOW_PASS123\"\n",
    "\n",
    "mlflow.set_tracking_uri('http://127.0.0.1:5001')\n",
    "\n",
    "mlflow.start_run()\n",
    "\n",
    "# Log a parameter (key-value pair)\n",
    "mlflow.log_param(\"param1\", 5)\n",
    "\n",
    "# Log a metric; metrics can be updated throughout the run\n",
    "mlflow.log_metric(\"foo\", 2, step=1)\n",
    "mlflow.log_metric(\"foo\", 4, step=2)\n",
    "mlflow.log_metric(\"foo\", 6, step=3)\n",
    "\n",
    "print( mlflow.get_tracking_uri())\n",
    "print(mlflow.get_artifact_uri())\n",
    "\n",
    "# Log an artifact (output file)\n",
    "with open(\"output.txt\", \"w\") as f:\n",
    "    f.write(\"Hello world!\")\n",
    "mlflow.log_artifact(\"output.txt\")\n",
    "\n",
    "mlflow.end_run()"
   ]
  }
 ],
 "metadata": {
  "kernelspec": {
   "display_name": "Python 3.8.9 ('venv': venv)",
   "language": "python",
   "name": "python3"
  },
  "language_info": {
   "codemirror_mode": {
    "name": "ipython",
    "version": 3
   },
   "file_extension": ".py",
   "mimetype": "text/x-python",
   "name": "python",
   "nbconvert_exporter": "python",
   "pygments_lexer": "ipython3",
   "version": "3.8.9"
  },
  "orig_nbformat": 4,
  "vscode": {
   "interpreter": {
    "hash": "c3989768ff6fa33aae819b1781a412525fcae9bd06eab0c6f1ce3618c6d4051c"
   }
  }
 },
 "nbformat": 4,
 "nbformat_minor": 2
}
